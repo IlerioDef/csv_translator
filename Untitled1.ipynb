{
 "cells": [
  {
   "cell_type": "code",
   "execution_count": 9,
   "id": "9536ea02",
   "metadata": {},
   "outputs": [],
   "source": [
    "import json\n",
    "import csv\n",
    "import os\n",
    "from googletrans import Translator\n",
    "import time\n",
    "from tqdm import tqdm\n",
    "import datetime as dt\n",
    "translator = Translator()\n",
    "LANGUAGES = {\n",
    "    \"af\":\"_AFR\",\n",
    "    \"ga\":\"_GAE\",\n",
    "    \"sq\":\"_ALB\",\n",
    "    \"it\":\"_ITA\",\n",
    "    \"ar\":\"_ARB\",\n",
    "    \"ja\":\"_JAP\",\n",
    "    \"az\":\"_AZR\",\n",
    "    \"kn\":\"_KAN\",\n",
    "    \"eu\":\"_BSQ\",\n",
    "    \"ko\":\"_KOR\",\n",
    "    \"bn\":\"_BEN\",\n",
    "    \"la\":\"_LAT\",\n",
    "    \"be\":\"_BEL\",\n",
    "    \"lv\":\"_LAV\",\n",
    "    \"bg\":\"_BUL\",\n",
    "    \"lt\":\"_LIT\",\n",
    "    \"ca\":\"_CAT\",\n",
    "    \"mk\":\"_MAC\",\n",
    "    \"zh-CN\":\"_CHN\",\n",
    "    \"ms\":\"_MAL\",\n",
    "    \"zh-TW\":\"_CHN\",\n",
    "    \"mt\":\"_MAL\",\n",
    "    \"hr\":\"_CRO\",\n",
    "    \"no\":\"_NOR\",\n",
    "    \"cs\":\"_CSZ\",\n",
    "    \"fa\":\"_PER\",\n",
    "    \"da\":\"_DNS\",\n",
    "    \"pl\":\"_POL\",\n",
    "    \"nl\":\"_DUT\",\n",
    "    \"pt\":\"_POR\",\n",
    "    \"en\":\"_ENG\",\n",
    "    \"ro\":\"_ROM\",\n",
    "    \"eo\":\"_ESR\",\n",
    "    \"ru\":\"_RUS\",\n",
    "    \"et\":\"_EST\",\n",
    "    \"sr\":\"_SRB\",\n",
    "    \"tl\":\"_TAG\",\n",
    "    \"sk\":\"_SLK\",\n",
    "    \"fi\":\"_FIN\",\n",
    "    \"sl\":\"_SLO\",\n",
    "    \"fr\":\"_FRA\",\n",
    "    \"es\":\"_ESP\",\n",
    "    \"gl\":\"_GAL\",\n",
    "    \"sw\":\"_SWA\",\n",
    "    \"ka\":\"_GEO\",\n",
    "    \"sv\":\"_SWE\",\n",
    "    \"de\":\"_DEU\",\n",
    "    \"ta\":\"_TAM\",\n",
    "    \"el\":\"_GRE\",\n",
    "    \"te\":\"_TEL\",\n",
    "    \"gu\":\"_GUJ\",\n",
    "    \"th\":\"_THA\",\n",
    "    \"ht\":\"_HAI\",\n",
    "    \"tr\":\"_TUR\",\n",
    "    \"iw\":\"_HEB\",\n",
    "    \"uk\":\"_UKR\",\n",
    "    \"hi\":\"_HIN\",\n",
    "    \"ur\":\"_URD\",\n",
    "    \"hu\":\"_HUN\",\n",
    "    \"vi\":\"_VIE\",\n",
    "    \"is\":\"_ISL\",\n",
    "    \"cy\":'_WEL',\n",
    "    \"id\":\"_IND\",\n",
    "    \"yi\":\"_YID\",\n",
    "    }\n",
    "to_translate = [\"hopes\", \"work\"]"
   ]
  },
  {
   "cell_type": "code",
   "execution_count": 28,
   "id": "6f68b060",
   "metadata": {},
   "outputs": [
    {
     "name": "stdout",
     "output_type": "stream",
     "text": [
      "200000\n",
      "\n"
     ]
    },
    {
     "ename": "TypeError",
     "evalue": "the JSON object must be str, bytes or bytearray, not NoneType",
     "output_type": "error",
     "traceback": [
      "\u001B[0;31m---------------------------------------------------------------------------\u001B[0m",
      "\u001B[0;31mTypeError\u001B[0m                                 Traceback (most recent call last)",
      "\u001B[0;32m/tmp/ipykernel_26986/4230661246.py\u001B[0m in \u001B[0;36m<module>\u001B[0;34m\u001B[0m\n\u001B[1;32m     17\u001B[0m             \u001B[0mprint\u001B[0m\u001B[0;34m(\u001B[0m\u001B[0mcell\u001B[0m\u001B[0;34m[\u001B[0m\u001B[0mcolumn\u001B[0m\u001B[0;34m]\u001B[0m\u001B[0;34m)\u001B[0m\u001B[0;34m\u001B[0m\u001B[0;34m\u001B[0m\u001B[0m\n\u001B[1;32m     18\u001B[0m             \u001B[0;32mif\u001B[0m \u001B[0mcell\u001B[0m \u001B[0;34m!=\u001B[0m \u001B[0;32mNone\u001B[0m\u001B[0;34m:\u001B[0m\u001B[0;34m\u001B[0m\u001B[0;34m\u001B[0m\u001B[0m\n\u001B[0;32m---> 19\u001B[0;31m                 \u001B[0mcurrent_translation\u001B[0m\u001B[0;34m[\u001B[0m\u001B[0mcell\u001B[0m\u001B[0;34m[\u001B[0m\u001B[0mcolumn\u001B[0m\u001B[0;34m]\u001B[0m\u001B[0;34m]\u001B[0m \u001B[0;34m=\u001B[0m \u001B[0mtranslator\u001B[0m\u001B[0;34m.\u001B[0m\u001B[0mtranslate\u001B[0m\u001B[0;34m(\u001B[0m\u001B[0mcell\u001B[0m\u001B[0;34m[\u001B[0m\u001B[0mcolumn\u001B[0m\u001B[0;34m]\u001B[0m\u001B[0;34m)\u001B[0m\u001B[0;34m.\u001B[0m\u001B[0mtext\u001B[0m\u001B[0;34m\u001B[0m\u001B[0;34m\u001B[0m\u001B[0m\n\u001B[0m",
      "\u001B[0;32m~/anaconda3/lib/python3.9/site-packages/googletrans/client.py\u001B[0m in \u001B[0;36mtranslate\u001B[0;34m(self, text, dest, src)\u001B[0m\n\u001B[1;32m    217\u001B[0m \u001B[0;34m\u001B[0m\u001B[0m\n\u001B[1;32m    218\u001B[0m         \u001B[0mdata\u001B[0m \u001B[0;34m=\u001B[0m \u001B[0mjson\u001B[0m\u001B[0;34m.\u001B[0m\u001B[0mloads\u001B[0m\u001B[0;34m(\u001B[0m\u001B[0mresp\u001B[0m\u001B[0;34m)\u001B[0m\u001B[0;34m\u001B[0m\u001B[0;34m\u001B[0m\u001B[0m\n\u001B[0;32m--> 219\u001B[0;31m         \u001B[0mparsed\u001B[0m \u001B[0;34m=\u001B[0m \u001B[0mjson\u001B[0m\u001B[0;34m.\u001B[0m\u001B[0mloads\u001B[0m\u001B[0;34m(\u001B[0m\u001B[0mdata\u001B[0m\u001B[0;34m[\u001B[0m\u001B[0;36m0\u001B[0m\u001B[0;34m]\u001B[0m\u001B[0;34m[\u001B[0m\u001B[0;36m2\u001B[0m\u001B[0;34m]\u001B[0m\u001B[0;34m)\u001B[0m\u001B[0;34m\u001B[0m\u001B[0;34m\u001B[0m\u001B[0m\n\u001B[0m\u001B[1;32m    220\u001B[0m         \u001B[0;31m# not sure\u001B[0m\u001B[0;34m\u001B[0m\u001B[0;34m\u001B[0m\u001B[0m\n\u001B[1;32m    221\u001B[0m         \u001B[0mshould_spacing\u001B[0m \u001B[0;34m=\u001B[0m \u001B[0mparsed\u001B[0m\u001B[0;34m[\u001B[0m\u001B[0;36m1\u001B[0m\u001B[0;34m]\u001B[0m\u001B[0;34m[\u001B[0m\u001B[0;36m0\u001B[0m\u001B[0;34m]\u001B[0m\u001B[0;34m[\u001B[0m\u001B[0;36m0\u001B[0m\u001B[0;34m]\u001B[0m\u001B[0;34m[\u001B[0m\u001B[0;36m3\u001B[0m\u001B[0;34m]\u001B[0m\u001B[0;34m\u001B[0m\u001B[0;34m\u001B[0m\u001B[0m\n",
      "\u001B[0;32m~/anaconda3/lib/python3.9/json/__init__.py\u001B[0m in \u001B[0;36mloads\u001B[0;34m(s, cls, object_hook, parse_float, parse_int, parse_constant, object_pairs_hook, **kw)\u001B[0m\n\u001B[1;32m    337\u001B[0m     \u001B[0;32melse\u001B[0m\u001B[0;34m:\u001B[0m\u001B[0;34m\u001B[0m\u001B[0;34m\u001B[0m\u001B[0m\n\u001B[1;32m    338\u001B[0m         \u001B[0;32mif\u001B[0m \u001B[0;32mnot\u001B[0m \u001B[0misinstance\u001B[0m\u001B[0;34m(\u001B[0m\u001B[0ms\u001B[0m\u001B[0;34m,\u001B[0m \u001B[0;34m(\u001B[0m\u001B[0mbytes\u001B[0m\u001B[0;34m,\u001B[0m \u001B[0mbytearray\u001B[0m\u001B[0;34m)\u001B[0m\u001B[0;34m)\u001B[0m\u001B[0;34m:\u001B[0m\u001B[0;34m\u001B[0m\u001B[0;34m\u001B[0m\u001B[0m\n\u001B[0;32m--> 339\u001B[0;31m             raise TypeError(f'the JSON object must be str, bytes or bytearray, '\n\u001B[0m\u001B[1;32m    340\u001B[0m                             f'not {s.__class__.__name__}')\n\u001B[1;32m    341\u001B[0m         \u001B[0ms\u001B[0m \u001B[0;34m=\u001B[0m \u001B[0ms\u001B[0m\u001B[0;34m.\u001B[0m\u001B[0mdecode\u001B[0m\u001B[0;34m(\u001B[0m\u001B[0mdetect_encoding\u001B[0m\u001B[0;34m(\u001B[0m\u001B[0ms\u001B[0m\u001B[0;34m)\u001B[0m\u001B[0;34m,\u001B[0m \u001B[0;34m'surrogatepass'\u001B[0m\u001B[0;34m)\u001B[0m\u001B[0;34m\u001B[0m\u001B[0;34m\u001B[0m\u001B[0m\n",
      "\u001B[0;31mTypeError\u001B[0m: the JSON object must be str, bytes or bytearray, not NoneType"
     ]
    }
   ],
   "source": [
    "translation_dictionary = {}\n",
    "language = \"en\"\n",
    "if language in LANGUAGES:\n",
    "#     print(\"this language is present\")\n",
    "    pass\n",
    "    \n",
    "with open(\"data/TG_MarchenkoUPD.csv\") as file:\n",
    "    data = csv.DictReader(file, delimiter=',', quotechar='|')\n",
    "    for column in to_translate:\n",
    "#         print()\n",
    "        translation_dictionary[language] = {}\n",
    "        current_translation = translation_dictionary[language]\n",
    "#         print(translation_dictionary)\n",
    "#         print(current_translation)\n",
    "        \n",
    "        for cell in data:\n",
    "            print(cell[column])\n",
    "            if cell != None:\n",
    "                current_translation[cell[column]] = translator.translate(cell[column]).text"
   ]
  },
  {
   "cell_type": "code",
   "execution_count": null,
   "id": "4068e3c2",
   "metadata": {},
   "outputs": [],
   "source": []
  }
 ],
 "metadata": {
  "kernelspec": {
   "display_name": "Python 3 (ipykernel)",
   "language": "python",
   "name": "python3"
  },
  "language_info": {
   "codemirror_mode": {
    "name": "ipython",
    "version": 3
   },
   "file_extension": ".py",
   "mimetype": "text/x-python",
   "name": "python",
   "nbconvert_exporter": "python",
   "pygments_lexer": "ipython3",
   "version": "3.9.13"
  }
 },
 "nbformat": 4,
 "nbformat_minor": 5
}
